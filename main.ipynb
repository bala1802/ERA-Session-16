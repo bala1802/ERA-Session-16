{
 "cells": [
  {
   "cell_type": "code",
   "execution_count": 1,
   "metadata": {},
   "outputs": [
    {
     "name": "stderr",
     "output_type": "stream",
     "text": [
      "/Users/apple/miniconda3/envs/torch/lib/python3.10/site-packages/torch/amp/autocast_mode.py:204: UserWarning: User provided device_type of 'cuda', but CUDA is not available. Disabling\n",
      "  warnings.warn('User provided device_type of \\'cuda\\', but CUDA is not available. Disabling')\n"
     ]
    },
    {
     "name": "stdout",
     "output_type": "stream",
     "text": [
      "Using device: cpu\n",
      "Max length of source sentence: 471\n",
      "Max length of target sentence: 482\n"
     ]
    },
    {
     "name": "stderr",
     "output_type": "stream",
     "text": [
      "/Users/apple/miniconda3/envs/torch/lib/python3.10/site-packages/torch/cuda/amp/grad_scaler.py:120: UserWarning: torch.cuda.amp.GradScaler is enabled, but CUDA is not available.  Disabling.\n",
      "  warnings.warn(\"torch.cuda.amp.GradScaler is enabled, but CUDA is not available.  Disabling.\")\n"
     ]
    },
    {
     "name": "stdout",
     "output_type": "stream",
     "text": [
      "huggingface/tokenizers: The current process just got forked, after parallelism has already been used. Disabling parallelism to avoid deadlocks...\n",
      "To disable this warning, you can either:\n",
      "\t- Avoid using `tokenizers` before the fork if possible\n",
      "\t- Explicitly set the environment variable TOKENIZERS_PARALLELISM=(true | false)\n"
     ]
    },
    {
     "name": "stderr",
     "output_type": "stream",
     "text": [
      "Processing Epoch 00: 100%|██████████| 1931/1931 [26:23<00:00,  1.22it/s, loss=4.614]\n",
      "stty: stdin isn't a terminal\n"
     ]
    },
    {
     "name": "stdout",
     "output_type": "stream",
     "text": [
      "Average loss of epoch 0 is 5.733199425523976\n",
      "huggingface/tokenizers: The current process just got forked, after parallelism has already been used. Disabling parallelism to avoid deadlocks...\n",
      "To disable this warning, you can either:\n",
      "\t- Avoid using `tokenizers` before the fork if possible\n",
      "\t- Explicitly set the environment variable TOKENIZERS_PARALLELISM=(true | false)\n",
      "--------------------------------------------------------------------------------\n",
      "    SOURCE: He determined upon the line of conduct which he was going to adopt towards M. Valenod, Julien, and even Elisa.\n",
      "    TARGET: Il fixa la ligne de conduite qu’il allait suivre envers M. Valenod, Julien et même Élisa.\n",
      " PREDICTED: Il se mit à la de la , et il était à M . de Julien , et Julien .\n",
      "--------------------------------------------------------------------------------\n",
      "    SOURCE: \"Everything, Pencroft,\" answered Harding, \"and we have no means of preventing them.\"\n",
      "    TARGET: -- Tout, Pencroff, répondit Cyrus Smith, et nous n'avons aucun moyen de les en empêcher.\n",
      " PREDICTED: -- Tout , répondit Cyrus Smith , et nous ne nous pas de la plus .\n",
      "--------------------------------------------------------------------------------\n"
     ]
    },
    {
     "name": "stderr",
     "output_type": "stream",
     "text": [
      "Processing Epoch 01: 100%|██████████| 1931/1931 [26:15<00:00,  1.23it/s, loss=3.618]\n",
      "stty: stdin isn't a terminal\n"
     ]
    },
    {
     "name": "stdout",
     "output_type": "stream",
     "text": [
      "Average loss of epoch 1 is 4.386769039651879\n",
      "huggingface/tokenizers: The current process just got forked, after parallelism has already been used. Disabling parallelism to avoid deadlocks...\n",
      "To disable this warning, you can either:\n",
      "\t- Avoid using `tokenizers` before the fork if possible\n",
      "\t- Explicitly set the environment variable TOKENIZERS_PARALLELISM=(true | false)\n",
      "--------------------------------------------------------------------------------\n",
      "    SOURCE: \"You know I must positively go to see her to-day.\"\n",
      "    TARGET: --Tu sais … il est indispensable que j'y aille aujourd'hui.\n",
      " PREDICTED: -- Vous savez que je vous à voir la veille .\n",
      "--------------------------------------------------------------------------------\n",
      "    SOURCE: \"I cannot see that London has any great advantage over the country, for my part, except the shops and public places.\n",
      "    TARGET: Quels sont apres tout les grands avantages de Londres, a part les magasins et les lieux publics ?\n",
      " PREDICTED: -- Je ne vois pas que Londres a l ' affaire de la campagne , pour mon rôle , ou le .\n",
      "--------------------------------------------------------------------------------\n"
     ]
    },
    {
     "name": "stderr",
     "output_type": "stream",
     "text": [
      "Processing Epoch 02: 100%|██████████| 1931/1931 [25:23<00:00,  1.27it/s, loss=3.402]\n",
      "stty: stdin isn't a terminal\n"
     ]
    },
    {
     "name": "stdout",
     "output_type": "stream",
     "text": [
      "Average loss of epoch 2 is 3.7959638849433257\n",
      "huggingface/tokenizers: The current process just got forked, after parallelism has already been used. Disabling parallelism to avoid deadlocks...\n",
      "To disable this warning, you can either:\n",
      "\t- Avoid using `tokenizers` before the fork if possible\n",
      "\t- Explicitly set the environment variable TOKENIZERS_PARALLELISM=(true | false)\n",
      "--------------------------------------------------------------------------------\n",
      "    SOURCE: \"Musnier, we'll burn your books.\"\n",
      "    TARGET: – Musnier, nous brûlerons tes livres.\n",
      " PREDICTED: – Mademoiselle Mary , nous vos livres .\n",
      "--------------------------------------------------------------------------------\n",
      "    SOURCE: There Pencroft observed,--\n",
      "    TARGET: Là, Pencroff fit une réflexion:\n",
      " PREDICTED: Pencroff observa Pencroff .\n",
      "--------------------------------------------------------------------------------\n"
     ]
    },
    {
     "name": "stderr",
     "output_type": "stream",
     "text": [
      "Processing Epoch 03: 100%|██████████| 1931/1931 [22:13<00:00,  1.45it/s, loss=3.659]\n",
      "stty: stdin isn't a terminal\n"
     ]
    },
    {
     "name": "stdout",
     "output_type": "stream",
     "text": [
      "Average loss of epoch 3 is 3.4553628881504843\n",
      "huggingface/tokenizers: The current process just got forked, after parallelism has already been used. Disabling parallelism to avoid deadlocks...\n",
      "To disable this warning, you can either:\n",
      "\t- Avoid using `tokenizers` before the fork if possible\n",
      "\t- Explicitly set the environment variable TOKENIZERS_PARALLELISM=(true | false)\n",
      "--------------------------------------------------------------------------------\n",
      "    SOURCE: \"That’s true,\" said Porthos.\n",
      "    TARGET: -- C'est juste, dit Porthos.\n",
      " PREDICTED: -- C ' est vrai , dit Porthos .\n",
      "--------------------------------------------------------------------------------\n",
      "    SOURCE: Only at a distance, at the summit of that one of the towers of Notre−Dame which commands the Grève, two men outlined in black against the light morning sky, and who seemed to be looking on, were visible.\n",
      "    TARGET: On voyait seulement de loin, au sommet de celle des tours de Notre-Dame qui domine la Grève, deux hommes détachés en noir sur le ciel clair du matin, qui semblaient regarder.\n",
      " PREDICTED: Il n ’ y a pas de loin , au sommet de Notre - Dame , dont les deux hommes avaient paru , et les deux hommes fixes , qui semblaient le ciel .\n",
      "--------------------------------------------------------------------------------\n"
     ]
    },
    {
     "name": "stderr",
     "output_type": "stream",
     "text": [
      "Processing Epoch 04: 100%|██████████| 1931/1931 [1:03:35<00:00,  1.98s/it, loss=3.519] \n",
      "stty: stdin isn't a terminal\n"
     ]
    },
    {
     "name": "stdout",
     "output_type": "stream",
     "text": [
      "Average loss of epoch 4 is 3.2277970134995875\n",
      "huggingface/tokenizers: The current process just got forked, after parallelism has already been used. Disabling parallelism to avoid deadlocks...\n",
      "To disable this warning, you can either:\n",
      "\t- Avoid using `tokenizers` before the fork if possible\n",
      "\t- Explicitly set the environment variable TOKENIZERS_PARALLELISM=(true | false)\n",
      "--------------------------------------------------------------------------------\n",
      "    SOURCE: \"You will see,\" continued Aramis, \"that it breathes irreproachable passion.\n",
      "    TARGET: -- Puis, continua Aramis, il respire des passions honnêtes, vous verrez.\n",
      " PREDICTED: -- Vous verrez , continua Aramis , qu ' il y a une passion .\n",
      "--------------------------------------------------------------------------------\n",
      "    SOURCE: The throng of vagabonds, uttering loud acclamations, crowded to its foot to ascend.\n",
      "    TARGET: La foule des truands poussant de grandes acclamations se pressa au bas pour y monter.\n",
      " PREDICTED: La foule de truands , de haut , faisait de haut , se précipiter sur le pied .\n",
      "--------------------------------------------------------------------------------\n"
     ]
    },
    {
     "name": "stderr",
     "output_type": "stream",
     "text": [
      "Processing Epoch 05: 100%|██████████| 1931/1931 [26:52<00:00,  1.20it/s, loss=2.855]\n",
      "stty: stdin isn't a terminal\n"
     ]
    },
    {
     "name": "stdout",
     "output_type": "stream",
     "text": [
      "Average loss of epoch 5 is 2.9810523327492113\n",
      "huggingface/tokenizers: The current process just got forked, after parallelism has already been used. Disabling parallelism to avoid deadlocks...\n",
      "To disable this warning, you can either:\n",
      "\t- Avoid using `tokenizers` before the fork if possible\n",
      "\t- Explicitly set the environment variable TOKENIZERS_PARALLELISM=(true | false)\n",
      "--------------------------------------------------------------------------------\n",
      "    SOURCE: But the staircase was too narrow for the pushing crowd, which would have taken long to get in if the rear of the besiegers had not gone off to enter by other openings.\n",
      "    TARGET: Mais l'escalier était trop étroit, la cohue, écrasée, n'aurait pu entrer de longtemps, si la queue des assiégeants n'avait pris le parti de passer par les autres ouvertures.\n",
      " PREDICTED: Mais l ' escalier était trop étroite pour glisser , qui eût marché longtemps à se faire dans les de l ' autre côté des .\n",
      "--------------------------------------------------------------------------------\n",
      "    SOURCE: 'Tomorrow some country squire from the mountains of the Franche-Comte,' she said to M. de Caylus, 'has only to discover that Julien is his natural son, and give him a name and a few thousand francs, and in six weeks he will have grown moustaches like yourselves, gentlemen; in six months he will be an officer of hussars like yourselves, gentlemen.\n",
      "    TARGET: – Que demain quelque hobereau des montagnes de la Franche-Comté, dit-elle à M. de Caylus, s’aperçoive que Julien est son fils naturel, et lui donne un nom et quelques milliers de francs, dans six semaines il a des moustaches comme vous, messieurs ; dans six mois il est officier de housards comme vous, messieurs.\n",
      " PREDICTED: – Demain , à peu près de les montagnes de ce comte , dit - elle à M . de Caylus , il ne vous connaît que à six mois de Mathilde , et à Julien .\n",
      "--------------------------------------------------------------------------------\n"
     ]
    },
    {
     "name": "stderr",
     "output_type": "stream",
     "text": [
      "Processing Epoch 06: 100%|██████████| 1931/1931 [26:45<00:00,  1.20it/s, loss=2.881]\n",
      "stty: stdin isn't a terminal\n"
     ]
    },
    {
     "name": "stdout",
     "output_type": "stream",
     "text": [
      "Average loss of epoch 6 is 2.6587360123782995\n",
      "huggingface/tokenizers: The current process just got forked, after parallelism has already been used. Disabling parallelism to avoid deadlocks...\n",
      "To disable this warning, you can either:\n",
      "\t- Avoid using `tokenizers` before the fork if possible\n",
      "\t- Explicitly set the environment variable TOKENIZERS_PARALLELISM=(true | false)\n",
      "--------------------------------------------------------------------------------\n",
      "    SOURCE: The provost addressed him with severity, \"What have you done that you have been brought hither, knave?\"\n",
      "    TARGET: Le prévôt lui adressa la parole avec sévérité : « Qu’est-ce que tu as donc fait pour être ici, maraud ? »\n",
      " PREDICTED: Le prévôt lui adressa avec sérénité : « Qu ’ avez - vous fait que vous êtes amené ici ? »\n",
      "--------------------------------------------------------------------------------\n",
      "    SOURCE: An iron ladder, clamped to the wall, led to the shaft's upper end.\n",
      "    TARGET: Une échelle de fer, cramponnée à la paroi, conduisait à son extrémité supérieure.\n",
      " PREDICTED: Une échelle de fer , au mur , menait au puits , menait au fond de la taille .\n",
      "--------------------------------------------------------------------------------\n"
     ]
    },
    {
     "name": "stderr",
     "output_type": "stream",
     "text": [
      "Processing Epoch 07: 100%|██████████| 1931/1931 [26:38<00:00,  1.21it/s, loss=2.460]\n",
      "stty: stdin isn't a terminal\n"
     ]
    },
    {
     "name": "stdout",
     "output_type": "stream",
     "text": [
      "Average loss of epoch 7 is 2.3865686442060583\n",
      "huggingface/tokenizers: The current process just got forked, after parallelism has already been used. Disabling parallelism to avoid deadlocks...\n",
      "To disable this warning, you can either:\n",
      "\t- Avoid using `tokenizers` before the fork if possible\n",
      "\t- Explicitly set the environment variable TOKENIZERS_PARALLELISM=(true | false)\n",
      "--------------------------------------------------------------------------------\n",
      "    SOURCE: At recreation time the same games were got up as before, but Jasmin never spoke to Admiral Meaulnes.\n",
      "    TARGET: Aux récréations, les mêmes jeux qu’autrefois s’organisaient, mais Jasmin ne parlait jamais plus au grand Meaulnes.\n",
      " PREDICTED: À la même heure que les mêmes jeux étaient debout , mais il ne parlait jamais au grand Meaulnes .\n",
      "--------------------------------------------------------------------------------\n",
      "    SOURCE: In the carriage, tearing on at full gallop in the night, the children were once more asleep.\n",
      "    TARGET: Dans la voiture qui fuyait au grand galop à travers la nuit, les deux enfants s’étaient rendormis.\n",
      " PREDICTED: Dans la voiture , les enfants s ’ éteignaient sur le grand galop , les enfants s ’ y éteignaient .\n",
      "--------------------------------------------------------------------------------\n"
     ]
    },
    {
     "name": "stderr",
     "output_type": "stream",
     "text": [
      "Processing Epoch 08: 100%|██████████| 1931/1931 [26:38<00:00,  1.21it/s, loss=2.351]\n",
      "stty: stdin isn't a terminal\n"
     ]
    },
    {
     "name": "stdout",
     "output_type": "stream",
     "text": [
      "Average loss of epoch 8 is 2.1711185695839816\n",
      "huggingface/tokenizers: The current process just got forked, after parallelism has already been used. Disabling parallelism to avoid deadlocks...\n",
      "To disable this warning, you can either:\n",
      "\t- Avoid using `tokenizers` before the fork if possible\n",
      "\t- Explicitly set the environment variable TOKENIZERS_PARALLELISM=(true | false)\n",
      "--------------------------------------------------------------------------------\n",
      "    SOURCE: She will die of misery, sure enough.\"\n",
      "    TARGET: Elle va crever de misere, c'est sur.\n",
      " PREDICTED: Elle mourra bien de la misère , bien sûre .\n",
      "--------------------------------------------------------------------------------\n",
      "    SOURCE: It is you who have come to me.\n",
      "    TARGET: C'est vous qui êtes venu.\n",
      " PREDICTED: C ' est toi qui m ' as venue .\n",
      "--------------------------------------------------------------------------------\n"
     ]
    },
    {
     "name": "stderr",
     "output_type": "stream",
     "text": [
      "Processing Epoch 09: 100%|██████████| 1931/1931 [26:58<00:00,  1.19it/s, loss=1.970]\n",
      "stty: stdin isn't a terminal\n"
     ]
    },
    {
     "name": "stdout",
     "output_type": "stream",
     "text": [
      "Average loss of epoch 9 is 2.0037947703000487\n",
      "huggingface/tokenizers: The current process just got forked, after parallelism has already been used. Disabling parallelism to avoid deadlocks...\n",
      "To disable this warning, you can either:\n",
      "\t- Avoid using `tokenizers` before the fork if possible\n",
      "\t- Explicitly set the environment variable TOKENIZERS_PARALLELISM=(true | false)\n",
      "--------------------------------------------------------------------------------\n",
      "    SOURCE: Where could they be?\n",
      "    TARGET: Où était-il en ce moment ?\n",
      " PREDICTED: Où pouvait - on être ?\n",
      "--------------------------------------------------------------------------------\n",
      "    SOURCE: There was a moment of silence; but at length the two Englishmen felt ashamed to draw back, and the angrier one descended the five or six steps which led to the cellar, and gave a kick against the door enough to split a wall.\n",
      "    TARGET: Il y eut un moment de silence; mais enfin les deux Anglais eurent honte de reculer, et le plus hargneux des deux descendit les cinq ou six marches dont se composait l'escalier et donna dans la porte un coup de pied à fendre une muraille.\n",
      " PREDICTED: Il y eut un moment de silence , mais enfin les deux bouts faisaient de retomber la porte , dont la porte se fit pendant six ou six pas , qui donnait sur la cave .\n",
      "--------------------------------------------------------------------------------\n"
     ]
    },
    {
     "name": "stderr",
     "output_type": "stream",
     "text": [
      "Processing Epoch 10: 100%|██████████| 1931/1931 [23:46<00:00,  1.35it/s, loss=1.971]\n",
      "stty: stdin isn't a terminal\n"
     ]
    },
    {
     "name": "stdout",
     "output_type": "stream",
     "text": [
      "Average loss of epoch 10 is 1.9057865233571958\n",
      "huggingface/tokenizers: The current process just got forked, after parallelism has already been used. Disabling parallelism to avoid deadlocks...\n",
      "To disable this warning, you can either:\n",
      "\t- Avoid using `tokenizers` before the fork if possible\n",
      "\t- Explicitly set the environment variable TOKENIZERS_PARALLELISM=(true | false)\n",
      "--------------------------------------------------------------------------------\n",
      "    SOURCE: For an apprentice Musketeer the young woman was almost an ideal of love.\n",
      "    TARGET: Pour un apprenti mousquetaire, la jeune femme était presque une idéalité amoureuse.\n",
      " PREDICTED: Car un mousquetaire , la jeune femme était presque un goût d ' amour .\n",
      "--------------------------------------------------------------------------------\n",
      "    SOURCE: Elizabeth, who was left by herself, now smiled at the rapidity and ease with which an affair was finally settled, that had given them so many previous months of suspense and vexation.\n",
      "    TARGET: Elizabeth restée seule sourit devant l’aisance et la rapidité avec laquelle se réglait une affaire qui leur avait donné tant de mois d’incertitude et d’anxiété.\n",
      " PREDICTED: Elizabeth , qui s ’ était laissé tomber , sourit a l ’ aise , et , avec une rencontre d ’ où venait , le silence tant de trouble , les recevait tant de défiance .\n",
      "--------------------------------------------------------------------------------\n"
     ]
    },
    {
     "name": "stderr",
     "output_type": "stream",
     "text": [
      "Processing Epoch 11: 100%|██████████| 1931/1931 [22:06<00:00,  1.46it/s, loss=1.904]\n",
      "stty: stdin isn't a terminal\n"
     ]
    },
    {
     "name": "stdout",
     "output_type": "stream",
     "text": [
      "Average loss of epoch 11 is 1.8723624216219972\n",
      "huggingface/tokenizers: The current process just got forked, after parallelism has already been used. Disabling parallelism to avoid deadlocks...\n",
      "To disable this warning, you can either:\n",
      "\t- Avoid using `tokenizers` before the fork if possible\n",
      "\t- Explicitly set the environment variable TOKENIZERS_PARALLELISM=(true | false)\n",
      "--------------------------------------------------------------------------------\n",
      "    SOURCE: For drink, we took some wonderful sticky concoction of Harris's, which you mixed with water and called lemonade, plenty of tea, and a bottle of whisky, in case, as George said, we got upset.\n",
      "    TARGET: Nous choisîmes pour boisson ce merveilleux sirop concentré – une trouvaille de Harris – qui, mélangé a l’eau, donne un liquide proche parent du soda, sans oublier le thé en abondance et la bouteille de whisky… pour le cas, précisa George, ou nous ferions naufrage.\n",
      " PREDICTED: Pendant une , nous une merveilleuse de Harris , qui vous donne de la reconnaissance et du simples de toutes les délicatesses .\n",
      "--------------------------------------------------------------------------------\n",
      "    SOURCE: How they pile the poor little craft mast-high with fine clothes and big houses; with useless servants, and a host of swell friends that do not care twopence for them, and that they do not care three ha'pence for; with expensive entertainments that nobody enjoys, with formalities and fashions, with pretence and ostentation, and with - oh, heaviest, maddest lumber of all! - the dread of what will my neighbour think, with luxuries that only cloy, with pleasures that bore, with empty show that, like the criminal's iron crown of yore, makes to bleed and swoon the aching head that wears it!\n",
      "    TARGET: Et voila ces maisons qui retentissent de divertissements ruineux dont personne ne s’amuse, voila le regne écrasant des protocoles, des modes, des prétentions et autres étalages, mais par-dessus tout voila la plus encombrante et la plus absurde des futilités : la sacro-sainte peur du qu’en-dira-t-on ! Regardez-les sombrer dans les plaisirs assommants, les luxes aliénants, les mille affectations qui, tel le carcan de fer réservé jadis aux criminels, enserrent et martyrisent la tete qui le porte !\n",
      " PREDICTED: Quel - ils le pauvre petit in a été douloureux et bon , ce sont de simples colis , dont l ' ne sont pas .\n",
      "--------------------------------------------------------------------------------\n"
     ]
    },
    {
     "name": "stderr",
     "output_type": "stream",
     "text": [
      "Processing Epoch 12: 100%|██████████| 1931/1931 [22:23<00:00,  1.44it/s, loss=1.880]\n",
      "stty: stdin isn't a terminal\n"
     ]
    },
    {
     "name": "stdout",
     "output_type": "stream",
     "text": [
      "Average loss of epoch 12 is 1.8448525582614308\n",
      "huggingface/tokenizers: The current process just got forked, after parallelism has already been used. Disabling parallelism to avoid deadlocks...\n",
      "To disable this warning, you can either:\n",
      "\t- Avoid using `tokenizers` before the fork if possible\n",
      "\t- Explicitly set the environment variable TOKENIZERS_PARALLELISM=(true | false)\n",
      "--------------------------------------------------------------------------------\n",
      "    SOURCE: He went to seek asylum with the abbe Pirard, who, during his absence, had become Mathilde's most effective ally.\n",
      "    TARGET: Il alla demander asile à l’abbé Pirard, qui, pendant son absence, était devenu l’allié le plus utile de Mathilde.\n",
      " PREDICTED: Il alla chercher avec l ’ abbé Pirard , qui , pendant son absence , était devenu Mathilde le plus avec lui .\n",
      "--------------------------------------------------------------------------------\n",
      "    SOURCE: Iron gates between granite pillars showed me where to enter, and passing through them, I found myself at once in the twilight of close-ranked trees.\n",
      "    TARGET: des portes de fer, placées entre des piliers de granit, indiquaient l'entrée. Après les avoir franchies, je me trouvai dans une demi- obscurité provenant de deux rangées d'arbres.\n",
      " PREDICTED: Des portes de granit m ’ entre où entrer , et qui me passait , je me trouvai tout de suite dans le crépuscule de les autres .\n",
      "--------------------------------------------------------------------------------\n"
     ]
    },
    {
     "name": "stderr",
     "output_type": "stream",
     "text": [
      "Processing Epoch 13: 100%|██████████| 1931/1931 [26:56<00:00,  1.19it/s, loss=1.823]\n",
      "stty: stdin isn't a terminal\n"
     ]
    },
    {
     "name": "stdout",
     "output_type": "stream",
     "text": [
      "Average loss of epoch 13 is 1.8209708437038048\n",
      "huggingface/tokenizers: The current process just got forked, after parallelism has already been used. Disabling parallelism to avoid deadlocks...\n",
      "To disable this warning, you can either:\n",
      "\t- Avoid using `tokenizers` before the fork if possible\n",
      "\t- Explicitly set the environment variable TOKENIZERS_PARALLELISM=(true | false)\n",
      "--------------------------------------------------------------------------------\n",
      "    SOURCE: 'My good fellow,' said I, 'as long as the Commons starve me, I have to starve you,' and so the matter ended.\"\n",
      "    TARGET: «Mon brave garçon, ai-je dit, tant que les Communes me rationneront, je vous mettrai à la ration», et l'affaire a été réglée.\n",
      " PREDICTED: – Mon bon homme , dis - je , toutes les détails à moi , je tiens à mourir de faim , moi jusqu ’ à l ’ affaire .\n",
      "--------------------------------------------------------------------------------\n",
      "    SOURCE: That would keep her up all the same.\n",
      "    TARGET: Ça la soutiendrait tout de meme.\n",
      " PREDICTED: Cela la tout cela .\n",
      "--------------------------------------------------------------------------------\n"
     ]
    },
    {
     "name": "stderr",
     "output_type": "stream",
     "text": [
      "Processing Epoch 14: 100%|██████████| 1931/1931 [26:59<00:00,  1.19it/s, loss=1.839]\n",
      "stty: stdin isn't a terminal\n"
     ]
    },
    {
     "name": "stdout",
     "output_type": "stream",
     "text": [
      "Average loss of epoch 14 is 1.7992052687442963\n",
      "huggingface/tokenizers: The current process just got forked, after parallelism has already been used. Disabling parallelism to avoid deadlocks...\n",
      "To disable this warning, you can either:\n",
      "\t- Avoid using `tokenizers` before the fork if possible\n",
      "\t- Explicitly set the environment variable TOKENIZERS_PARALLELISM=(true | false)\n",
      "--------------------------------------------------------------------------------\n",
      "    SOURCE: \"I will tell it,\" cried Milady, with a feigned exultation, \"on the day when I shall have suffered sufficiently for my faith.\"\n",
      "    TARGET: -- Je le dirai, s'écria Milady avec une exaltation feinte, le jour où j'aurai assez souffert pour ma foi.»\n",
      " PREDICTED: -- Je le saurai bien , dit Milady avec un pardon , au jour où j ' aurai bien souffert !\n",
      "--------------------------------------------------------------------------------\n",
      "    SOURCE: And indeed, when I went early in the morning, thoughtful and almost happy towards the house of Frantz which Yvonne de Galais had once shown me empty, I saw from the distance, sweeping the doorstep, a sort of young housewife with a turned- down collar, an object of curiosity and excitement to several little cowherds in their Sunday clothes on the way to mass.\n",
      "    TARGET: Et en effet, au début de la matinée, lorsque je m’en allai, tout pensif et presque heureux vers la maison de Frantz qu’Yvonne de Galais m’avait jadis montrée déserte, j’aperçus de loin une manière de jeune ménagère en collerette, qui balayait le pas de sa porte, objet de curiosité et d’enthousiasme pour plusieurs petits vachers endimanchés qui s’en allaient à la messe…\n",
      " PREDICTED: Et , en effet , quand je de bonne heure , il s ’ est heureux vers la maison de Frantz qu ’ Yvonne de Galais , et elle m ’ avait mis au petit salon .\n",
      "--------------------------------------------------------------------------------\n"
     ]
    },
    {
     "name": "stderr",
     "output_type": "stream",
     "text": [
      "Processing Epoch 15: 100%|██████████| 1931/1931 [27:00<00:00,  1.19it/s, loss=1.816]\n",
      "stty: stdin isn't a terminal\n"
     ]
    },
    {
     "name": "stdout",
     "output_type": "stream",
     "text": [
      "Average loss of epoch 15 is 1.7801550740963556\n",
      "huggingface/tokenizers: The current process just got forked, after parallelism has already been used. Disabling parallelism to avoid deadlocks...\n",
      "To disable this warning, you can either:\n",
      "\t- Avoid using `tokenizers` before the fork if possible\n",
      "\t- Explicitly set the environment variable TOKENIZERS_PARALLELISM=(true | false)\n",
      "--------------------------------------------------------------------------------\n",
      "    SOURCE: Cyrus Harding and Gideon Spilett remarked these somber appearances, and from time to time discussed the evident progress of the volcanic phenomena, but their work went on without interruption.\n",
      "    TARGET: Cyrus Smith et Gédéon Spilett remarquèrent parfaitement ces assombrissements passagers, et causèrent à plusieurs reprises des progrès que faisait évidemment le phénomène volcanique, mais le travail ne fut pas interrompu.\n",
      " PREDICTED: Cyrus Smith et Gédéon Spilett , après une observation , venaient de temps à autre , et , les progrès des , eussent l ' œuvre sans l ' oeuvre .\n",
      "--------------------------------------------------------------------------------\n",
      "    SOURCE: This confirmed Milady in her opinion that the abbess was rather royalist than cardinalist.\n",
      "    TARGET: Cela confirma Milady dans son opinion que la religieuse était plutôt royaliste que cardinaliste.\n",
      " PREDICTED: Milady de son avis que l ' abbesse avait un peu de chose la et de la fin .\n",
      "--------------------------------------------------------------------------------\n"
     ]
    },
    {
     "name": "stderr",
     "output_type": "stream",
     "text": [
      "Processing Epoch 16: 100%|██████████| 1931/1931 [26:53<00:00,  1.20it/s, loss=1.781]\n",
      "stty: stdin isn't a terminal\n"
     ]
    },
    {
     "name": "stdout",
     "output_type": "stream",
     "text": [
      "Average loss of epoch 16 is 1.763176576391148\n",
      "huggingface/tokenizers: The current process just got forked, after parallelism has already been used. Disabling parallelism to avoid deadlocks...\n",
      "To disable this warning, you can either:\n",
      "\t- Avoid using `tokenizers` before the fork if possible\n",
      "\t- Explicitly set the environment variable TOKENIZERS_PARALLELISM=(true | false)\n",
      "--------------------------------------------------------------------------------\n",
      "    SOURCE: But if they are driven to it, all the pits will enroll themselves.\n",
      "    TARGET: Mais, si on les y pousse, toutes les fosses s'enrôleront.\n",
      " PREDICTED: Mais si l ' on le laisse , toutes les fosses se .\n",
      "--------------------------------------------------------------------------------\n",
      "    SOURCE: « — Oui.\n",
      "    TARGET: \"'Yes.'\n",
      " PREDICTED: \"' Yes .'\n",
      "--------------------------------------------------------------------------------\n"
     ]
    },
    {
     "name": "stderr",
     "output_type": "stream",
     "text": [
      "Processing Epoch 17: 100%|██████████| 1931/1931 [26:46<00:00,  1.20it/s, loss=1.844]\n",
      "stty: stdin isn't a terminal\n"
     ]
    },
    {
     "name": "stdout",
     "output_type": "stream",
     "text": [
      "Average loss of epoch 17 is 1.7472850938710074\n",
      "huggingface/tokenizers: The current process just got forked, after parallelism has already been used. Disabling parallelism to avoid deadlocks...\n",
      "To disable this warning, you can either:\n",
      "\t- Avoid using `tokenizers` before the fork if possible\n",
      "\t- Explicitly set the environment variable TOKENIZERS_PARALLELISM=(true | false)\n",
      "--------------------------------------------------------------------------------\n",
      "    SOURCE: Good for you, I thought.\n",
      "    TARGET: -- A la bonne heure, pensai-je.\n",
      " PREDICTED: Bien pour vous , je pensais .\n",
      "--------------------------------------------------------------------------------\n",
      "    SOURCE: Read.\"\n",
      "    TARGET: Lisez.»\n",
      " PREDICTED: -- Milord .\n",
      "--------------------------------------------------------------------------------\n"
     ]
    },
    {
     "name": "stderr",
     "output_type": "stream",
     "text": [
      "Processing Epoch 18:   1%|          | 21/1931 [00:17<27:28,  1.16it/s, loss=1.700]"
     ]
    }
   ],
   "source": [
    "from config import get_config\n",
    "cfg = get_config()\n",
    "\n",
    "from train import train_model\n",
    "import torch\n",
    "torch.cuda.amp.autocast(enabled=True)\n",
    "\n",
    "train_model(cfg)"
   ]
  },
  {
   "cell_type": "code",
   "execution_count": null,
   "metadata": {},
   "outputs": [],
   "source": []
  }
 ],
 "metadata": {
  "kernelspec": {
   "display_name": "torch",
   "language": "python",
   "name": "python3"
  },
  "language_info": {
   "codemirror_mode": {
    "name": "ipython",
    "version": 3
   },
   "file_extension": ".py",
   "mimetype": "text/x-python",
   "name": "python",
   "nbconvert_exporter": "python",
   "pygments_lexer": "ipython3",
   "version": "3.10.12"
  },
  "orig_nbformat": 4
 },
 "nbformat": 4,
 "nbformat_minor": 2
}
